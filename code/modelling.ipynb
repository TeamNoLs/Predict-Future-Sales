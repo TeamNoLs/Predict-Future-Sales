{
 "cells": [
  {
   "cell_type": "markdown",
   "metadata": {},
   "source": [
    "# Modelling \n",
    "This file will hold the pipeline for fitting the model, getting t"
   ]
  }
 ],
 "metadata": {
  "interpreter": {
   "hash": "0ce5dcbcb59d6d0d4c6e47ab217ff67f4e7cb8191284e45f917ab50a7c7f64b8"
  },
  "kernelspec": {
   "display_name": "Python 3.7.6 64-bit ('base': conda)",
   "language": "python",
   "name": "python3"
  },
  "language_info": {
   "name": "python",
   "version": "3.7.6"
  },
  "orig_nbformat": 4
 },
 "nbformat": 4,
 "nbformat_minor": 2
}
